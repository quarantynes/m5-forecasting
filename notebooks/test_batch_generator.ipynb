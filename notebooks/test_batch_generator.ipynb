{
 "cells": [
  {
   "cell_type": "code",
   "execution_count": 1,
   "metadata": {},
   "outputs": [],
   "source": [
    "import os\n",
    "os.chdir('..')"
   ]
  },
  {
   "cell_type": "code",
   "execution_count": 2,
   "metadata": {},
   "outputs": [],
   "source": [
    "import m5"
   ]
  },
  {
   "cell_type": "code",
   "execution_count": 3,
   "metadata": {},
   "outputs": [],
   "source": [
    "from m5 import train\n",
    "gen = train.batch_generator(mode='train',batch_size=32)"
   ]
  },
  {
   "cell_type": "code",
   "execution_count": null,
   "metadata": {},
   "outputs": [],
   "source": []
  },
  {
   "cell_type": "code",
   "execution_count": 8,
   "metadata": {},
   "outputs": [
    {
     "data": {
      "text/plain": [
       "{'category': array([0, 2, 0, 2, 2, 1, 1, 1, 2, 2, 1, 2, 1, 0, 2, 1, 0, 2, 2, 2, 2, 0,\n",
       "        0, 1, 2, 1, 2, 2, 1, 2, 1, 1], dtype=int8),\n",
       " 'dept': array([0, 6, 0, 4, 5, 3, 2, 3, 5, 4, 2, 6, 2, 1, 6, 2, 0, 5, 6, 5, 6, 0,\n",
       "        0, 3, 6, 3, 4, 6, 3, 5, 3, 2], dtype=int8),\n",
       " 'weekday': array([4, 5, 7, 3, 2, 6, 2, 5, 7, 5, 3, 4, 2, 4, 2, 2, 5, 3, 7, 5, 4, 2,\n",
       "        5, 2, 5, 4, 4, 2, 3, 1, 1, 6]),\n",
       " 'month': array([ 2, 12,  1,  3, 12,  4, 12,  4, 10,  8,  4,  2,  8,  6,  5,  5,  9,\n",
       "         7,  9,  7,  6,  1, 11,  6,  2,  6,  8,  4,  9,  2, 10,  7]),\n",
       " 'year': array([2013, 2015, 2014, 2015, 2014, 2011, 2014, 2013, 2013, 2011, 2013,\n",
       "        2011, 2015, 2015, 2014, 2011, 2015, 2015, 2011, 2012, 2012, 2016,\n",
       "        2011, 2013, 2011, 2014, 2015, 2015, 2015, 2016, 2013, 2013]),\n",
       " 'snap': array([1, 1, 1, 0, 0, 0, 1, 1, 0, 0, 1, 1, 0, 1, 1, 1, 0, 0, 1, 1, 0, 0,\n",
       "        1, 0, 1, 1, 0, 0, 0, 1, 0, 1])}"
      ]
     },
     "execution_count": 8,
     "metadata": {},
     "output_type": "execute_result"
    }
   ],
   "source": [
    "next(gen)"
   ]
  },
  {
   "cell_type": "code",
   "execution_count": null,
   "metadata": {},
   "outputs": [],
   "source": []
  }
 ],
 "metadata": {
  "kernelspec": {
   "display_name": "m5",
   "language": "python",
   "name": "m5"
  },
  "language_info": {
   "codemirror_mode": {
    "name": "ipython",
    "version": 3
   },
   "file_extension": ".py",
   "mimetype": "text/x-python",
   "name": "python",
   "nbconvert_exporter": "python",
   "pygments_lexer": "ipython3",
   "version": "3.7.5"
  }
 },
 "nbformat": 4,
 "nbformat_minor": 2
}
